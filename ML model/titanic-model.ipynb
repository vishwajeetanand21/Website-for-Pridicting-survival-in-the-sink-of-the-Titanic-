{
 "cells": [
  {
   "cell_type": "code",
   "execution_count": 1,
   "id": "821e360e",
   "metadata": {},
   "outputs": [],
   "source": [
    "import pandas as pd\n",
    "import sklearn\n",
    "from sklearn.ensemble import RandomForestClassifier\n",
    "import pickle\n",
    "from sklearn.model_selection import train_test_split\n",
    "\n",
    "df=pd.read_csv('train.csv')\n",
    "\n",
    "def get_title(name):\n",
    "    if '.' in name:\n",
    "        return name.split(',')[1].split('.')[0].strip()\n",
    "    else:\n",
    "        return \"Unknown\"\n",
    "    \n",
    "\n",
    "    \n",
    "#Normalize the title\n",
    "def replace_titles(x):\n",
    "    titles=x[\"Title\"]\n",
    "    if titles in['Capt','Col','Major']:\n",
    "        return 'Officer'\n",
    "    elif titles in['Jonkheer','Don','the Countess','Dona','Lady','Sir']:\n",
    "        return 'Royalty'\n",
    "    elif titles=='Mme':\n",
    "        return 'Mrs'\n",
    "    elif titles in ['Mlle','Ms']:\n",
    "        return 'Miss'\n",
    "    else:\n",
    "        return titles\n",
    "\n",
    "    \n",
    "    \n",
    "df['Title']=df['Name'].map(lambda x: get_title(x))\n",
    "df['Title']=df.apply(replace_titles,axis=1)\n",
    "\n",
    "\n",
    "df['Age'].fillna(df['Age'].median(),inplace=True)\n",
    "df['Fare'].fillna(df['Fare'].median(),inplace=True)\n",
    "df['Embarked'].fillna('S',inplace=True)\n",
    "\n",
    "\n",
    "df.drop('Cabin',axis=1,inplace=True)\n",
    "df.drop('Ticket',axis=1,inplace=True)\n",
    "df.drop('Name',axis=1,inplace=True)\n",
    "\n",
    "\n",
    "\n",
    "df.Sex.replace(('male','female'),(0,1), inplace=True)\n",
    "df.Embarked.replace(('S','C','Q'),(0,1,2), inplace=True)\n",
    "df.Title.replace(('Mr','Miss','Mrs','Master','Dr','Rev','Royalty','Officer'),(0,1,2,3,4,5,6,7), inplace=True)\n",
    "\n",
    "x=df.drop(['PassengerId','Survived'],axis=1) #axis=1 means we want to drop the column not the row\n",
    "y=df['Survived']\n",
    "x_train, x_test, y_train, y_test=train_test_split(x,y,test_size=0.1)\n",
    "\n",
    "\n",
    "\n",
    "\n",
    "randomforest=RandomForestClassifier()\n",
    "randomforest.fit(x_train,y_train)\n",
    "\n",
    "pickle.dump(randomforest,open('titanic_model.sav','wb'))"
   ]
  },
  {
   "cell_type": "code",
   "execution_count": 2,
   "id": "3073ec12",
   "metadata": {},
   "outputs": [],
   "source": [
    "#correct order in the dataframe\n",
    "def prediction_model(pclass,sex,age,sibsp,parch,fare,embarked,title):\n",
    "    import pickle\n",
    "    x=[[pclass,sex,age,sibsp,parch,fare,embarked,title]]\n",
    "    randomforest=pickle.load(open('titanic_model.sav','rb'))\n",
    "    predictions=randomforest.predict(x)\n",
    "    print(predictions)"
   ]
  },
  {
   "cell_type": "code",
   "execution_count": 3,
   "id": "9479f4c5",
   "metadata": {},
   "outputs": [
    {
     "name": "stdout",
     "output_type": "stream",
     "text": [
      "[1]\n"
     ]
    }
   ],
   "source": [
    "prediction_model(1,1,11,1,1,19,1,1)"
   ]
  },
  {
   "cell_type": "code",
   "execution_count": null,
   "id": "1f1848a1",
   "metadata": {},
   "outputs": [],
   "source": []
  }
 ],
 "metadata": {
  "kernelspec": {
   "display_name": "Python 3 (ipykernel)",
   "language": "python",
   "name": "python3"
  },
  "language_info": {
   "codemirror_mode": {
    "name": "ipython",
    "version": 3
   },
   "file_extension": ".py",
   "mimetype": "text/x-python",
   "name": "python",
   "nbconvert_exporter": "python",
   "pygments_lexer": "ipython3",
   "version": "3.9.7"
  }
 },
 "nbformat": 4,
 "nbformat_minor": 5
}
